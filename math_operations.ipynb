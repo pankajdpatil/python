{
 "cells": [
  {
   "cell_type": "code",
   "execution_count": 48,
   "metadata": {},
   "outputs": [],
   "source": [
    "import operator \n",
    "operatorDictionary = {'+': operator.add, \n",
    "                      '-': operator.sub, \n",
    "                      '*': operator.mul, \n",
    "                      '/': operator.truediv, \n",
    "                      '**': operator.pow, \n",
    "                      '%': operator.mod}"
   ]
  },
  {
   "cell_type": "code",
   "execution_count": 49,
   "metadata": {},
   "outputs": [],
   "source": [
    "def operation(line:str):\n",
    "    # line format -->32 + 18\n",
    "    equationArray = line.split()\n",
    "    x = int(equationArray[0])\n",
    "    opr = equationArray[1]\n",
    "    y = int(equationArray[2])\n",
    "    \n",
    "    if opr not in operatorDictionary.keys():\n",
    "        print(\"Invalid Operator\")\n",
    "        return None\n",
    "    \n",
    "    return operatorDictionary[opr](x, y)\n",
    "    "
   ]
  },
  {
   "cell_type": "code",
   "execution_count": 58,
   "metadata": {},
   "outputs": [],
   "source": [
    "fin = open('/Users/Pankaj/temp/python/input.txt', 'r')\n",
    "fout = open('/Users/Pankaj/temp/python/output.txt', 'w')\n",
    "for line in fin:\n",
    "    result = operation(line)\n",
    "    if result:\n",
    "        fout.write('{} = {}\\n'.format(line[:-1], result))\n",
    "fout.close()"
   ]
  },
  {
   "cell_type": "code",
   "execution_count": null,
   "metadata": {},
   "outputs": [],
   "source": []
  }
 ],
 "metadata": {
  "kernelspec": {
   "display_name": "Python 3",
   "language": "python",
   "name": "python3"
  },
  "language_info": {
   "codemirror_mode": {
    "name": "ipython",
    "version": 3
   },
   "file_extension": ".py",
   "mimetype": "text/x-python",
   "name": "python",
   "nbconvert_exporter": "python",
   "pygments_lexer": "ipython3",
   "version": "3.7.1"
  }
 },
 "nbformat": 4,
 "nbformat_minor": 2
}
